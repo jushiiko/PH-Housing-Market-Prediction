{
 "cells": [
  {
   "cell_type": "code",
   "execution_count": 4,
   "id": "210f0263",
   "metadata": {},
   "outputs": [],
   "source": [
    "import re\n",
    "import pandas as pd\n"
   ]
  },
  {
   "cell_type": "code",
   "execution_count": 10,
   "id": "6a4b8a06",
   "metadata": {},
   "outputs": [],
   "source": [
    "df = pd.read_csv('Housing_v2.csv')\n"
   ]
  },
  {
   "cell_type": "code",
   "execution_count": 11,
   "id": "ef92523c",
   "metadata": {},
   "outputs": [],
   "source": [
    "\n",
    "# 2. Split the Location field by commas into a list of tokens\n",
    "df['tokens'] = df['Location'].str.split(r'\\s*,\\s*')\n"
   ]
  },
  {
   "cell_type": "code",
   "execution_count": 22,
   "id": "e0fa2418",
   "metadata": {},
   "outputs": [],
   "source": [
    "def extract_postal(tokens):\n",
    "    # guard: must be a non-empty list\n",
    "    if not isinstance(tokens, list) or len(tokens) == 0:\n",
    "        return None\n",
    "    last = tokens[-1]\n",
    "    return last if isinstance(last, str) and re.fullmatch(r'\\d{4}', last) else None\n",
    "\n",
    "df['postal_code'] = df['tokens'].apply(extract_postal)"
   ]
  },
  {
   "cell_type": "code",
   "execution_count": 30,
   "id": "a97930d3",
   "metadata": {},
   "outputs": [],
   "source": [
    "def peel(tokens):\n",
    "    keys = ['street_or_po','barangay','city_municipality','province']\n",
    "    # initialize all to None\n",
    "    out = dict.fromkeys(keys, None)\n",
    "\n",
    "    if not isinstance(tokens, list) or len(tokens) == 0:\n",
    "        return pd.Series(out)\n",
    "\n",
    "    # strip postal code if present\n",
    "    if isinstance(tokens[-1], str) and re.fullmatch(r'\\d{4}', tokens[-1]):\n",
    "        tokens = tokens[:-1]\n",
    "\n",
    "    # assign from back with guards\n",
    "    if len(tokens) >= 1:\n",
    "        out['province'] = tokens[-1]\n",
    "    if len(tokens) >= 2:\n",
    "        out['city_municipality'] = tokens[-2]\n",
    "    if len(tokens) >= 3:\n",
    "        out['barangay'] = tokens[-3]\n",
    "    if len(tokens) > 3:\n",
    "        out['street_or_po'] = \", \".join(tokens[:-3])\n",
    "\n",
    "    return pd.Series(out)\n"
   ]
  },
  {
   "cell_type": "code",
   "execution_count": 31,
   "id": "4bdcc1bf",
   "metadata": {},
   "outputs": [],
   "source": [
    "parsed = df['tokens'].apply(peel)    # this is a DataFrame with the 4 cols\n",
    "df = pd.concat([df, parsed], axis=1)"
   ]
  },
  {
   "cell_type": "code",
   "execution_count": 32,
   "id": "d4fb0f8b",
   "metadata": {},
   "outputs": [],
   "source": [
    "# 6. Drop helper column\n",
    "df = df.drop(columns=['tokens'])\n",
    "\n"
   ]
  },
  {
   "cell_type": "code",
   "execution_count": 33,
   "id": "c47d3bbe",
   "metadata": {},
   "outputs": [
    {
     "name": "stdout",
     "output_type": "stream",
     "text": [
      "                                               Location street_or_po barangay  \\\n",
      "0                                 Santo Domingo, Cainta         None     None   \n",
      "1                              San Vicente, Santa Maria         None     None   \n",
      "2            Camella Tarlac Access Rd. Maliwalo, Tarlac         None     None   \n",
      "3                                         Gabon, Abucay         None     None   \n",
      "4                       Zambowood Rd. Boalan, Zamboanga         None     None   \n",
      "...                                                 ...          ...      ...   \n",
      "1495                                   Asisan, Tagaytay         None     None   \n",
      "1496                                      Pooc, Talisay         None     None   \n",
      "1497                            Western Bicutan, Taguig         None     None   \n",
      "1498                                           Antipolo         None     None   \n",
      "1499  Lot 69 Block 2 Pueblo El Grande Subdivision Ph...         None     None   \n",
      "\n",
      "                                      city_municipality     province  \\\n",
      "0                                         Santo Domingo       Cainta   \n",
      "1                                           San Vicente  Santa Maria   \n",
      "2                    Camella Tarlac Access Rd. Maliwalo       Tarlac   \n",
      "3                                                 Gabon       Abucay   \n",
      "4                                  Zambowood Rd. Boalan    Zamboanga   \n",
      "...                                                 ...          ...   \n",
      "1495                                             Asisan     Tagaytay   \n",
      "1496                                               Pooc      Talisay   \n",
      "1497                                    Western Bicutan       Taguig   \n",
      "1498                                               None     Antipolo   \n",
      "1499  Lot 69 Block 2 Pueblo El Grande Subdivision Ph...  Consolacion   \n",
      "\n",
      "     postal_code  \n",
      "0           None  \n",
      "1           None  \n",
      "2           None  \n",
      "3           None  \n",
      "4           None  \n",
      "...          ...  \n",
      "1495        None  \n",
      "1496        None  \n",
      "1497        None  \n",
      "1498        None  \n",
      "1499        None  \n",
      "\n",
      "[1500 rows x 6 columns]\n"
     ]
    }
   ],
   "source": [
    "# 7. Inspect\n",
    "print(df[['Location','street_or_po','barangay','city_municipality','province','postal_code']])\n",
    "\n"
   ]
  },
  {
   "cell_type": "code",
   "execution_count": null,
   "id": "d2b23503",
   "metadata": {},
   "outputs": [],
   "source": [
    "# 8. Save back to Excel if you like\n",
    "df.to_excel('houses_parsed.xlsx', index=False)"
   ]
  }
 ],
 "metadata": {
  "kernelspec": {
   "display_name": "Python 3",
   "language": "python",
   "name": "python3"
  },
  "language_info": {
   "codemirror_mode": {
    "name": "ipython",
    "version": 3
   },
   "file_extension": ".py",
   "mimetype": "text/x-python",
   "name": "python",
   "nbconvert_exporter": "python",
   "pygments_lexer": "ipython3",
   "version": "3.11.9"
  }
 },
 "nbformat": 4,
 "nbformat_minor": 5
}
